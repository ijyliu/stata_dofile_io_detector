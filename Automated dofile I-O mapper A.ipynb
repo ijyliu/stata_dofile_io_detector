{
 "cells": [
  {
   "cell_type": "code",
   "execution_count": 145,
   "metadata": {},
   "outputs": [],
   "source": [
    "# Automated dofile I-O Mapper\n",
    "# Code by Isaac Liu with help from M Z on Stack Overflow"
   ]
  },
  {
   "cell_type": "code",
   "execution_count": 1,
   "metadata": {},
   "outputs": [],
   "source": [
    "# USER ADJUSTMENTS\n",
    "\n",
    "# Set path to the common directory of dofiles\n",
    "path = r'C:\\Users\\ijyliu\\Documents\\repo\\mortgage_prepayment\\source'\n",
    "\n",
    "# Set write_to_path and name to a place where you want the file listing IO to be saved\n",
    "write_to_path = r'C:\\Users\\ijyliu\\Documents\\repo\\mortgage_prepayment\\source'\n",
    "# Saved automatically with extension .txt\n",
    "write_to_name = 'io'"
   ]
  },
  {
   "cell_type": "code",
   "execution_count": 2,
   "metadata": {},
   "outputs": [],
   "source": [
    "def fix_path(path):\n",
    "    path = path.replace(\"\\\\\", \"/\")\n",
    "    return(path)"
   ]
  },
  {
   "cell_type": "code",
   "execution_count": 3,
   "metadata": {},
   "outputs": [],
   "source": [
    "# Detect the dofiles in the directory\n",
    "# Note this is not a recursive search\n",
    "# Source: https://stackoverflow.com/questions/3207219/how-do-i-list-all-files-of-a-directory\n",
    "import os\n",
    "allfiles = [(fix_path(dp), f) for dp, dn, fn in os.walk(os.path.expanduser(path)) for f in fn]"
   ]
  },
  {
   "cell_type": "code",
   "execution_count": 4,
   "metadata": {},
   "outputs": [],
   "source": [
    "# Filter to only dofiles\n",
    "dfs = [df for df in allfiles if df[1][-3:] == '.do']"
   ]
  },
  {
   "cell_type": "code",
   "execution_count": 5,
   "metadata": {},
   "outputs": [],
   "source": [
    "# Set up the structure for dofile objects (a collection of lists)\n",
    "class dofile:\n",
    "    def __init__(self):\n",
    "        self.path = \"\"\n",
    "        self.name = \"\"\n",
    "        self.lines = []\n",
    "        self.flags_com = []\n",
    "        self.flags_program = []\n",
    "        self.inputs = []\n",
    "        self.outputs = []\n",
    "        self.intermediates = []\n",
    "    \n",
    "# Basic classes syntax: https://www.learnpython.org/en/Classes_and_Objects"
   ]
  },
  {
   "cell_type": "code",
   "execution_count": 6,
   "metadata": {},
   "outputs": [],
   "source": [
    "# Code structure note: for the purposes of debugging, I am making many small loops.\n",
    "# I understand that having one big loop probably runs faster."
   ]
  },
  {
   "cell_type": "code",
   "execution_count": 7,
   "metadata": {},
   "outputs": [],
   "source": [
    "# Create dofile objects based on names\n",
    "dofiles = []\n",
    "for d in dfs:\n",
    "    df = dofile()\n",
    "    df.path = d[0]\n",
    "    df.name = d[1]\n",
    "    dofiles.append(df)"
   ]
  },
  {
   "cell_type": "code",
   "execution_count": 8,
   "metadata": {},
   "outputs": [],
   "source": [
    "# Read in the files, line by line.\n",
    "# I use splitlines to get rid of newlines and then strip to get rid of tabs.\n",
    "for dofile in dofiles:\n",
    "    with open(dofile.path + \"/\" + dofile.name, 'r') as f:\n",
    "        dofile.lines = [line.strip() for line in f.read().splitlines()]"
   ]
  },
  {
   "cell_type": "code",
   "execution_count": 9,
   "metadata": {},
   "outputs": [],
   "source": [
    "# Clean out blank lines (otherwise we will get index errors later)\n",
    "for dofile in dofiles:\n",
    "    dofile.lines = [line for line in dofile.lines if line != '']"
   ]
  },
  {
   "cell_type": "code",
   "execution_count": 10,
   "metadata": {},
   "outputs": [],
   "source": [
    "# At the moment it appears hard to detect comment blocks w/ /* notation, but here's an attempt.\n",
    "# https://stackoverflow.com/questions/36860206/delete-lines-between-two-patterns-when-there-are-multiple-matches-in-python"
   ]
  },
  {
   "cell_type": "code",
   "execution_count": 11,
   "metadata": {},
   "outputs": [],
   "source": [
    "# A key problem appears to be unpredictable comment structure- ie nested comments, a pattern such as:\n",
    "# /*\n",
    "# /*\n",
    "# */\n",
    "# more text\n",
    "\n",
    "# The question is whether 'more text' should be commented or not- Stata says that it should be.\n",
    "# Experimentally, I'm developing flags to represent a 'level' of nested comment. Overall, anything with level 1 or higher\n",
    "# will be treated as commented out."
   ]
  },
  {
   "cell_type": "code",
   "execution_count": 12,
   "metadata": {},
   "outputs": [],
   "source": [
    "# Prep for RegEx detection\n",
    "# Guide: https://developers.google.com/edu/python/regular-expressions\n",
    "\n",
    "import re"
   ]
  },
  {
   "cell_type": "code",
   "execution_count": 13,
   "metadata": {},
   "outputs": [],
   "source": [
    "# Clean out /* to */ commented blocks"
   ]
  },
  {
   "cell_type": "code",
   "execution_count": 14,
   "metadata": {},
   "outputs": [],
   "source": [
    "# Still to tackle: cases where /* is used in the middle of a line but we still want the\n",
    "# first part before that, for example."
   ]
  },
  {
   "cell_type": "code",
   "execution_count": 15,
   "metadata": {},
   "outputs": [],
   "source": [
    "for dofile in dofiles:\n",
    "    flag = 0\n",
    "    for line in dofile.lines:\n",
    "        match = re.search(r'\\/\\*', line)\n",
    "        if match:\n",
    "            flag += 1\n",
    "        dofile.flags_com.append(flag)\n",
    "        match2 = re.search(r'\\*\\/', line)\n",
    "        if match2:\n",
    "            flag -= 1       "
   ]
  },
  {
   "cell_type": "code",
   "execution_count": 16,
   "metadata": {},
   "outputs": [],
   "source": [
    "for dofile in dofiles:\n",
    "    dofile.lines = [l for l, f in zip(dofile.lines, dofile.flags_com) if f == 0]"
   ]
  },
  {
   "cell_type": "code",
   "execution_count": 17,
   "metadata": {},
   "outputs": [],
   "source": [
    "# Clean out all remaining * commented lines\n",
    "for dofile in dofiles:\n",
    "    dofile.lines = [line for line in dofile.lines if line[0] != '*']\n",
    "# Source: https://stackoverflow.com/questions/1207406/how-to-remove-items-from-a-list-while-iterating"
   ]
  },
  {
   "cell_type": "code",
   "execution_count": 18,
   "metadata": {},
   "outputs": [],
   "source": [
    "# Clean out // commented lines.\n",
    "for dofile in dofiles:\n",
    "    dofile.lines = [line.split(\"//\")[0] for line in dofile.lines]"
   ]
  },
  {
   "cell_type": "code",
   "execution_count": 19,
   "metadata": {},
   "outputs": [
    {
     "output_type": "error",
     "ename": "AttributeError",
     "evalue": "'dofile' object has no attribute 'flags_program'",
     "traceback": [
      "\u001b[1;31m---------------------------------------------------------------------------\u001b[0m",
      "\u001b[1;31mAttributeError\u001b[0m                            Traceback (most recent call last)",
      "\u001b[1;32m<ipython-input-19-ea4eee2e68a6>\u001b[0m in \u001b[0;36m<module>\u001b[1;34m\u001b[0m\n\u001b[0;32m      6\u001b[0m         \u001b[1;32mif\u001b[0m \u001b[0mmatch\u001b[0m\u001b[1;33m:\u001b[0m\u001b[1;33m\u001b[0m\u001b[1;33m\u001b[0m\u001b[0m\n\u001b[0;32m      7\u001b[0m             \u001b[0mflag\u001b[0m \u001b[1;33m+=\u001b[0m \u001b[1;36m1\u001b[0m\u001b[1;33m\u001b[0m\u001b[1;33m\u001b[0m\u001b[0m\n\u001b[1;32m----> 8\u001b[1;33m         \u001b[0mdofile\u001b[0m\u001b[1;33m.\u001b[0m\u001b[0mflags_program\u001b[0m\u001b[1;33m.\u001b[0m\u001b[0mappend\u001b[0m\u001b[1;33m(\u001b[0m\u001b[0mflag\u001b[0m\u001b[1;33m)\u001b[0m\u001b[1;33m\u001b[0m\u001b[1;33m\u001b[0m\u001b[0m\n\u001b[0m\u001b[0;32m      9\u001b[0m         \u001b[0mmatch2\u001b[0m \u001b[1;33m=\u001b[0m \u001b[0mre\u001b[0m\u001b[1;33m.\u001b[0m\u001b[0msearch\u001b[0m\u001b[1;33m(\u001b[0m\u001b[1;34m'^end'\u001b[0m\u001b[1;33m,\u001b[0m \u001b[0mline\u001b[0m\u001b[1;33m)\u001b[0m\u001b[1;33m\u001b[0m\u001b[1;33m\u001b[0m\u001b[0m\n\u001b[0;32m     10\u001b[0m         \u001b[1;32mif\u001b[0m \u001b[0mmatch2\u001b[0m\u001b[1;33m:\u001b[0m\u001b[1;33m\u001b[0m\u001b[1;33m\u001b[0m\u001b[0m\n",
      "\u001b[1;31mAttributeError\u001b[0m: 'dofile' object has no attribute 'flags_program'"
     ]
    }
   ],
   "source": [
    "# Clean out program blocks\n",
    "for dofile in dofiles:\n",
    "    flag = 0\n",
    "    for line in dofile.lines:\n",
    "        match = re.search('^program', line)\n",
    "        if match:\n",
    "            flag += 1\n",
    "        dofile.flags_program.append(flag)\n",
    "        match2 = re.search('^end', line)\n",
    "        if match2:\n",
    "            flag -= 1    \n",
    "\n",
    "for dofile in dofiles:\n",
    "    dofile.lines = [l for l, f in zip(dofile.lines, dofile.flags_program) if f == 0]"
   ]
  },
  {
   "cell_type": "code",
   "execution_count": 164,
   "metadata": {},
   "outputs": [],
   "source": [
    "# I structure the detected i/o as tuples, in case later we want to go back and retrieve the kind of input... \n",
    "# ie using, versus use etc."
   ]
  },
  {
   "cell_type": "code",
   "execution_count": 165,
   "metadata": {},
   "outputs": [],
   "source": [
    "# Code should be adjusted to allow for spaces within file paths and other weird behavior, as\n",
    "# long as the file path is in quotes (single or double). I handle this by relaxing the\n",
    "# 'NOT SPACE' restriction and just having the match run until there is a comma or end of line."
   ]
  },
  {
   "cell_type": "code",
   "execution_count": 166,
   "metadata": {},
   "outputs": [],
   "source": [
    "# Using is a complicated case that can be involved in inputs and outputs."
   ]
  },
  {
   "cell_type": "code",
   "execution_count": 167,
   "metadata": {},
   "outputs": [],
   "source": [
    "# using\n",
    "for dofile in dofiles:\n",
    "    for line in dofile.lines:\n",
    "        using_match = re.search(r'using +([^\\s,]+)', line)\n",
    "        if using_match:\n",
    "            use_match = re.search(r'use', line)\n",
    "            append_match = re.search(r'append', line)\n",
    "            merge_match = re.search(r'merge', line)\n",
    "            is_match = re.search(r'insheet', line)\n",
    "            id_match = re.search(r'import delimited', line)\n",
    "            os_match = re.search(r'outsheet', line)\n",
    "            et_match = re.search(r'esttab', line)\n",
    "            jb_match = re.search(r'joinby', line)\n",
    "            to_add = using_match.group(1)\n",
    "            if to_add[0] == \"\\\"\" or to_add[0] == \"\\'\":\n",
    "                q_match = re.search(r'using +([^,\\n]+)', line)\n",
    "                to_add = q_match.group(1)\n",
    "            if (use_match or append_match or merge_match or is_match or id_match or jb_match) and to_add not in dofile.inputs:\n",
    "                dofile.inputs.append(to_add)\n",
    "            if (os_match or et_match) and to_add not in dofile.outputs:\n",
    "                dofile.outputs.append(to_add)"
   ]
  },
  {
   "cell_type": "code",
   "execution_count": 168,
   "metadata": {},
   "outputs": [],
   "source": [
    "# parmest/parmby saving\n",
    "for dofile in dofiles:\n",
    "    for line in dofile.lines:\n",
    "        saving_match = re.search(r'saving\\(([^\\s,)]+)', line)\n",
    "        if saving_match:\n",
    "            parmest_match = re.search(r'parmest', line)\n",
    "            parmby_match = re.search(r'parmby', line)\n",
    "            to_add = saving_match.group(1)\n",
    "            if to_add[0] == \"\\\"\" or to_add[0] == \"\\'\":\n",
    "                q_match = re.search(r'using +([^,\\n]+)', line)\n",
    "                to_add = q_match.group(1)\n",
    "            if (parmest_match or parmby_match) and to_add not in dofile.outputs:\n",
    "                dofile.outputs.append(to_add)"
   ]
  },
  {
   "cell_type": "code",
   "execution_count": 169,
   "metadata": {},
   "outputs": [],
   "source": [
    "# Input detectors"
   ]
  },
  {
   "cell_type": "code",
   "execution_count": 170,
   "metadata": {},
   "outputs": [],
   "source": [
    "# use\n",
    "for dofile in dofiles:\n",
    "    for line in dofile.lines:\n",
    "        use_match = re.search(r'use +([^\\s,]+)', line)\n",
    "        # DON'T detect lines with using in them, as these have already been caught, and\n",
    "        # the detector will toss in variable names!\n",
    "        using_match = re.search(r'using', line)\n",
    "        if use_match and not using_match:\n",
    "            to_add = use_match.group(1)\n",
    "            if to_add[0] == \"\\\"\" or to_add[0] == \"\\'\":\n",
    "                q_match = re.search(r'use +([^,\\n]+)', line)\n",
    "                to_add = q_match.group(1)\n",
    "            if to_add not in dofile.inputs:\n",
    "                dofile.inputs.append(to_add)"
   ]
  },
  {
   "cell_type": "code",
   "execution_count": 171,
   "metadata": {},
   "outputs": [],
   "source": [
    "# import delimited\n",
    "# only match if not already caught by using\n",
    "for dofile in dofiles:\n",
    "    for line in dofile.lines:\n",
    "        id_match = re.search(r'import +delimited +([^\\s,]+)', line)\n",
    "        using_match = re.search(r'using', line)\n",
    "        if id_match and not using_match:\n",
    "            to_add = id_match.group(1)\n",
    "            if to_add[0] == \"\\\"\" or to_add[0] == \"\\'\":\n",
    "                q_match = re.search(r'import +delimited +([^,\\n]+)', line)\n",
    "                to_add = q_match.group(1)\n",
    "            if to_add not in dofile.inputs:\n",
    "                dofile.inputs.append(to_add)"
   ]
  },
  {
   "cell_type": "code",
   "execution_count": 172,
   "metadata": {},
   "outputs": [],
   "source": [
    "# Output detectors"
   ]
  },
  {
   "cell_type": "code",
   "execution_count": 173,
   "metadata": {},
   "outputs": [],
   "source": [
    "# graph export\n",
    "for dofile in dofiles:\n",
    "    for line in dofile.lines:\n",
    "        ge_match = re.search(r'graph +export +([^\\s,]+)', line)\n",
    "        if ge_match:\n",
    "            to_add = ge_match.group(1)\n",
    "            if to_add[0] == \"\\\"\" or to_add[0] == \"\\'\":\n",
    "                q_match = re.search(r'graph +export +([^,\\n]+)', line)\n",
    "                to_add = q_match.group(1)\n",
    "            if to_add not in dofile.outputs:\n",
    "                dofile.outputs.append(to_add)"
   ]
  },
  {
   "cell_type": "code",
   "execution_count": 174,
   "metadata": {},
   "outputs": [],
   "source": [
    "# save\n",
    "for dofile in dofiles:\n",
    "    for line in dofile.lines:\n",
    "        save_match = re.search(r'save +([^\\s,]+)', line)\n",
    "        if save_match:\n",
    "            to_add = save_match.group(1)\n",
    "            if to_add[0] == \"\\\"\" or to_add[0] == \"\\'\":\n",
    "                q_match = re.search(r'save +([^,\\n]+)', line)\n",
    "                to_add = q_match.group(1)\n",
    "            if to_add not in dofile.outputs:\n",
    "                dofile.outputs.append(to_add)"
   ]
  },
  {
   "cell_type": "code",
   "execution_count": 175,
   "metadata": {},
   "outputs": [],
   "source": [
    "# save_chart\n",
    "for dofile in dofiles:\n",
    "    for line in dofile.lines:\n",
    "        sc_match = re.search(r'save_chart +([^\\s,]+)', line)\n",
    "        if sc_match:\n",
    "            to_add = sc_match.group(1)\n",
    "            if to_add[0] == \"\\\"\" or to_add[0] == \"\\'\":\n",
    "                q_match = re.search(r'save_chart +([^,\\n]+)', line)\n",
    "                to_add = q_match.group(1)\n",
    "            if to_add not in dofile.outputs:\n",
    "                dofile.outputs.append(to_add)"
   ]
  },
  {
   "cell_type": "code",
   "execution_count": 176,
   "metadata": {},
   "outputs": [],
   "source": [
    "# Add quotes to inputs and outputs if they don't already have them.\n",
    "\n",
    "# Define a simple function for this to be easier with list comprehension\n",
    "# Function pads a string with quotes if it doesn't start and end with them already.\n",
    "def cond_q_pad(string):\n",
    "    if string[0] != \"\\\"\" and string[-1] != \"\\\"\":\n",
    "        return '\"{}\"'.format(string)\n",
    "    else:\n",
    "        return string\n",
    "\n",
    "for dofile in dofiles:\n",
    "    dofile.inputs = [cond_q_pad(input) for input in dofile.inputs]\n",
    "    dofile.outputs = [cond_q_pad(output) for output in dofile.outputs]"
   ]
  },
  {
   "cell_type": "code",
   "execution_count": 177,
   "metadata": {},
   "outputs": [],
   "source": [
    "# Handle intermediates- file is in the input list and output list\n",
    "for dofile in dofiles:\n",
    "    dofile.intermediates = list(set(dofile.inputs) & set(dofile.outputs))\n",
    "    for intermediate in dofile.intermediates:\n",
    "        dofile.inputs.remove(intermediate)\n",
    "        dofile.outputs.remove(intermediate)"
   ]
  },
  {
   "cell_type": "code",
   "execution_count": 178,
   "metadata": {},
   "outputs": [],
   "source": [
    "# Toss fig1 and `0' from save_chart example code\n",
    "# This chunk can be removed if /* and */ treatment can be improved, \n",
    "# and if macro treatment and program treatment can be improved\n",
    "for dofile in dofiles:\n",
    "    if \"\\\"`0\\'\\\"\" in dofile.outputs:\n",
    "        dofile.outputs.remove(\"\\\"`0\\'\\\"\")\n",
    "    if \"\\\"`0\\'\\.eps\\\"\" in dofile.outputs:\n",
    "        dofile.outputs.remove(\"\\\"`0\\'\\.eps\\\"\")\n",
    "    if \"\\\"`0\\'\\.pdf\\\"\" in dofile.outputs:\n",
    "        dofile.outputs.remove(\"\\\"`0\\'\\.pdf\\\"\")\n",
    "    if \"\\\"fig1\\\"\" in dofile.outputs:\n",
    "        dofile.outputs.remove(\"\\\"fig1\\\"\")"
   ]
  },
  {
   "cell_type": "code",
   "execution_count": 179,
   "metadata": {},
   "outputs": [],
   "source": [
    "# Write the overall list of inputs and outputs to a .txt file\n",
    "with open(write_to_path + \"/\" + write_to_name + '.txt', 'w') as f:\n",
    "    f.write(\"* Automatically generated I-O mappings\\n\")\n",
    "    f.write(\"* code by Isaac Liu with help from M Z on Stack Overflow\\n\")\n",
    "    f.write(\"\\n\")\n",
    "    for dofile in dofiles:\n",
    "        f.write(\"* \" + dofile.name + \"\\n\")\n",
    "        f.write(\"* \" + \"Inputs:\\n\")\n",
    "        for input in dofile.inputs:\n",
    "            f.write(\"* \" + input + \"\\n\")\n",
    "        f.write(\"* \" + \"Outputs:\\n\")\n",
    "        for output in dofile.outputs:\n",
    "            f.write(\"* \" + output + \"\\n\")\n",
    "        f.write(\"* \" + \"Intermediates:\\n\")\n",
    "        for intermediate in dofile.intermediates:\n",
    "            f.write(\"* \" + intermediate + \"\\n\")\n",
    "        f.write(\"\\n\")"
   ]
  }
 ],
 "metadata": {
  "kernelspec": {
   "display_name": "Python 3",
   "language": "python",
   "name": "python3"
  },
  "language_info": {
   "codemirror_mode": {
    "name": "ipython",
    "version": 3
   },
   "file_extension": ".py",
   "mimetype": "text/x-python",
   "name": "python",
   "nbconvert_exporter": "python",
   "pygments_lexer": "ipython3",
   "version": "3.7.9-final"
  }
 },
 "nbformat": 4,
 "nbformat_minor": 4
}