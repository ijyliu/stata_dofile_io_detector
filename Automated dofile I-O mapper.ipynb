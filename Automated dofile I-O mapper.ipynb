{
 "cells": [
  {
   "cell_type": "code",
   "execution_count": 1,
   "metadata": {},
   "outputs": [],
   "source": [
    "# Primitive automated Stata dofile I-O mapper\n",
    "# Code by Isaac Liu with help from M Z on Stack Overflow\n",
    "\n",
    "# Currently supported\n",
    "\n",
    "# Input detectors\n",
    "# using\n",
    "# use\n",
    "# import delimited\n",
    "# insheet\n",
    "\n",
    "# Output detectors\n",
    "# save\n",
    "# outsheet\n",
    "\n",
    "# Intermediates\n",
    "# Check if the file is in the input list and output list\n",
    "\n",
    "# Automatically skips lines beginning with *\n",
    "\n",
    "# Future features:\n",
    "# temp files?\n",
    "# skip */ blocks"
   ]
  },
  {
   "cell_type": "code",
   "execution_count": 2,
   "metadata": {},
   "outputs": [],
   "source": [
    "# Set path to common directory of dofiles\n",
    "path = ''\n",
    "\n",
    "# Set the filesDoc to location of a .txt containing files to analyze, one per line\n",
    "# Use only the filename.\n",
    "filesDoc = ''\n",
    "with open(filesDoc, 'r') as f:\n",
    "    dfs = f.readlines()\n",
    "\n",
    "# Strip the newlines\n",
    "dofile_names = []\n",
    "for i in range(len(dfs)):\n",
    "    dofile_names.append(dfs[i].strip('\\n'))"
   ]
  },
  {
   "cell_type": "code",
   "execution_count": 3,
   "metadata": {},
   "outputs": [],
   "source": [
    "# Set up the structure for dofile objects (a collection of lists)\n",
    "class dofile:\n",
    "    def __init__(self):\n",
    "        self.name = \"\"\n",
    "        self.lines = []\n",
    "        self.inputs = []\n",
    "        self.outputs = []\n",
    "        self.intermediates = []\n",
    "    \n",
    "# Basic classes syntax: https://www.learnpython.org/en/Classes_and_Objects"
   ]
  },
  {
   "cell_type": "code",
   "execution_count": 4,
   "metadata": {},
   "outputs": [],
   "source": [
    "# Code structure note: for the purposes of debugging, I am making many small loops.\n",
    "# I understand that having one big loop probably runs faster."
   ]
  },
  {
   "cell_type": "code",
   "execution_count": 5,
   "metadata": {},
   "outputs": [],
   "source": [
    "# Create dofile objects based on names\n",
    "dofiles = []\n",
    "for name in dofile_names:\n",
    "    df = dofile()\n",
    "    df.name = name\n",
    "    dofiles.append(df)"
   ]
  },
  {
   "cell_type": "code",
   "execution_count": 6,
   "metadata": {},
   "outputs": [],
   "source": [
    "# Read in the files, line by line.\n",
    "for dofile in dofiles:\n",
    "    with open(path + dofile.name, 'r') as f:\n",
    "        dofile.lines = f.readlines()"
   ]
  },
  {
   "cell_type": "code",
   "execution_count": 7,
   "metadata": {},
   "outputs": [],
   "source": [
    "# Clean out all commented lines\n",
    "for dofile in dofiles:\n",
    "    for line in dofile.lines:\n",
    "        if line[0] == '*':\n",
    "            dofile.lines.remove(line)\n",
    "\n",
    "# At the moment it appears far harder to detect comment blocks w/ /* notation, will fix later."
   ]
  },
  {
   "cell_type": "code",
   "execution_count": 8,
   "metadata": {},
   "outputs": [],
   "source": [
    "# Prep for RegEx detection\n",
    "# Guide: https://developers.google.com/edu/python/regular-expressions\n",
    "\n",
    "import re"
   ]
  },
  {
   "cell_type": "code",
   "execution_count": 9,
   "metadata": {},
   "outputs": [],
   "source": [
    "# I structure the detected i/o as tuples, in case later we want to go back and retrieve the kind of input... \n",
    "# ie using, versus use etc."
   ]
  },
  {
   "cell_type": "code",
   "execution_count": 10,
   "metadata": {},
   "outputs": [],
   "source": [
    "# Input detectors"
   ]
  },
  {
   "cell_type": "code",
   "execution_count": 11,
   "metadata": {},
   "outputs": [],
   "source": [
    "for dofile in dofiles:\n",
    "    for line in dofile.lines:\n",
    "        # using\n",
    "        using_tups = re.findall(r'(using)\\s([^\\s,]+)', line)\n",
    "        for tuple in using_tups:\n",
    "            if tuple[1] not in dofile.inputs:\n",
    "                dofile.inputs.append(tuple[1])"
   ]
  },
  {
   "cell_type": "code",
   "execution_count": 12,
   "metadata": {},
   "outputs": [],
   "source": [
    "for dofile in dofiles:\n",
    "    for line in dofile.lines:\n",
    "        # use\n",
    "        use_tups = re.findall(r'(use)\\s+([^\\s,]+)', line)\n",
    "        for tuple in use_tups:\n",
    "            if tuple[1] not in dofile.inputs:\n",
    "                dofile.inputs.append(tuple[1])"
   ]
  },
  {
   "cell_type": "code",
   "execution_count": 13,
   "metadata": {},
   "outputs": [],
   "source": [
    "for dofile in dofiles:\n",
    "    for line in dofile.lines:\n",
    "        # import delimited\n",
    "        id_tups = re.findall(r'(import delimited)\\s+([^\\s,]+)', line)\n",
    "        for tuple in id_tups:\n",
    "            if tuple[1] not in dofile.inputs:\n",
    "                dofile.inputs.append(tuple[1])"
   ]
  },
  {
   "cell_type": "code",
   "execution_count": 14,
   "metadata": {},
   "outputs": [],
   "source": [
    "for dofile in dofiles:\n",
    "    for line in dofile.lines:\n",
    "        # insheet\n",
    "        is_tups = re.findall(r'(insheet)\\s+([^\\s,]+)', line)\n",
    "        for tuple in is_tups:\n",
    "            if tuple[1] not in dofile.inputs:\n",
    "                dofile.inputs.append(tuple[1])"
   ]
  },
  {
   "cell_type": "code",
   "execution_count": 15,
   "metadata": {},
   "outputs": [],
   "source": [
    "# Output detectors"
   ]
  },
  {
   "cell_type": "code",
   "execution_count": 16,
   "metadata": {},
   "outputs": [],
   "source": [
    "for dofile in dofiles:\n",
    "    for line in dofile.lines:\n",
    "        # save\n",
    "        save_tups = re.findall(r'(save)\\s+([^\\s,]+)', line)\n",
    "        for tuple in save_tups:\n",
    "            if tuple[1] not in dofile.outputs:\n",
    "                dofile.outputs.append(tuple[1])"
   ]
  },
  {
   "cell_type": "code",
   "execution_count": 17,
   "metadata": {},
   "outputs": [],
   "source": [
    "for dofile in dofiles:\n",
    "    for line in dofile.lines:\n",
    "        # outsheet\n",
    "        os_tups = re.findall(r'(outsheet)\\s+([^\\s,]+)', line)\n",
    "        for tuple in os_tups:\n",
    "            if tuple[1] not in dofile.outputs:\n",
    "                dofile.outputs.append(tuple[1])"
   ]
  },
  {
   "cell_type": "code",
   "execution_count": 20,
   "metadata": {},
   "outputs": [],
   "source": [
    "# Handle intermediates- file is in the input list and output list\n",
    "for dofile in dofiles:\n",
    "    for input in dofile.inputs:\n",
    "        if input in dofile.outputs:\n",
    "            if input not in dofile.intermediates:\n",
    "                dofile.intermediates.append(input)\n",
    "            dofile.inputs.remove(input)\n",
    "            dofile.outputs.remove(input)"
   ]
  },
  {
   "cell_type": "code",
   "execution_count": 21,
   "metadata": {},
   "outputs": [],
   "source": [
    "# Write the overall list of inputs and outputs to a .txt file\n",
    "with open('dropbox_io-list.txt', 'w') as f:\n",
    "    f.write(\"* Automatically generated Stata dofile I-O mappings\\n\")\n",
    "    f.write(\"* code by Isaac Liu with help from M Z on Stack Overflow\\n\")\n",
    "    f.write(\"\\n\")\n",
    "    for dofile in dofiles:\n",
    "        f.write(\"* \" + dofile.name + \"\\n\")\n",
    "        f.write(\"* \" + \"Inputs:\\n\")\n",
    "        for input in dofile.inputs:\n",
    "            f.write(\"* \" + input + \"\\n\")\n",
    "        f.write(\"* \" + \"Outputs:\\n\")\n",
    "        for output in dofile.outputs:\n",
    "            f.write(\"* \" + output + \"\\n\")\n",
    "        f.write(\"* \" + \"Intermediates:\\n\")\n",
    "        for intermediate in dofile.intermediates:\n",
    "            f.write(\"* \" + intermediate + \"\\n\")\n",
    "        f.write(\"\\n\")"
   ]
  }
 ],
 "metadata": {
  "kernelspec": {
   "display_name": "Python 3",
   "language": "python",
   "name": "python3"
  },
  "language_info": {
   "codemirror_mode": {
    "name": "ipython",
    "version": 3
   },
   "file_extension": ".py",
   "mimetype": "text/x-python",
   "name": "python",
   "nbconvert_exporter": "python",
   "pygments_lexer": "ipython3",
   "version": "3.8.3"
  }
 },
 "nbformat": 4,
 "nbformat_minor": 4
}
